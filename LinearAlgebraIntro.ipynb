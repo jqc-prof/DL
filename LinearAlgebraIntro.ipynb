{
  "nbformat": 4,
  "nbformat_minor": 0,
  "metadata": {
    "colab": {
      "provenance": [],
      "authorship_tag": "ABX9TyMY10DRfOsO4esirPB+ny8X",
      "include_colab_link": true
    },
    "kernelspec": {
      "name": "python3",
      "display_name": "Python 3"
    },
    "language_info": {
      "name": "python"
    }
  },
  "cells": [
    {
      "cell_type": "markdown",
      "metadata": {
        "id": "view-in-github",
        "colab_type": "text"
      },
      "source": [
        "<a href=\"https://colab.research.google.com/github/jqc-prof/DL/blob/main/LinearAlgebraIntro.ipynb\" target=\"_parent\"><img src=\"https://colab.research.google.com/assets/colab-badge.svg\" alt=\"Open In Colab\"/></a>"
      ]
    },
    {
      "cell_type": "code",
      "execution_count": null,
      "metadata": {
        "colab": {
          "base_uri": "https://localhost:8080/"
        },
        "id": "kMa3d3H1TQLm",
        "outputId": "e7b313a8-b0fa-4585-c7df-df35119076e4"
      },
      "outputs": [
        {
          "output_type": "stream",
          "name": "stdout",
          "text": [
            "tensor([[1, 2, 3],\n",
            "        [4, 5, 6],\n",
            "        [3, 4, 5]]) \n",
            " tensor([[1, 4, 3],\n",
            "        [2, 5, 4],\n",
            "        [3, 6, 5]])\n"
          ]
        }
      ],
      "source": [
        "#Scalars\n",
        "#scalars are denoted as lower-cased letters\n",
        "#scalars are implemented as tensors with only 1 element\n",
        "import torch\n",
        "x = torch.tensor(3)\n",
        "y = torch.tensor(2)\n",
        "x+y,x*y,x/y,x**y\n",
        "\n",
        "#Vectors\n",
        "#fixed-length array of scalars also known as elements of the vector\n",
        "#vectors are 1st-order tensors\n",
        "#vectors start at indicies 0 zero-based indexing in python\n",
        "#linear algebra subscripts start at 1\n",
        "x = torch.arange(3)\n",
        "x\n",
        "x[2] #tensor 2\n",
        "len(x) #length of x\n",
        "#can also access length via shape func. shape is a tuple that indicates tensor's\n",
        "#length along each axis\n",
        "x.shape\n",
        "\n",
        "#Matrices\n",
        "A = torch.arange(6).reshape(3,-1)\n",
        "A\n",
        "#To transpose (aka flip rows and columns):\n",
        "A.T\n",
        "\n",
        "#symmetric matrices are a subset of square matrices that are equal to their own\n",
        "#transposes, but not all of them are equal to each other\n",
        "B = torch.tensor([[1,2,3],[4,5,6],[3,4,5]])\n",
        "print(B, \"\\n\", B.T)"
      ]
    },
    {
      "cell_type": "code",
      "source": [
        "torch.arange(24).reshape(2,3,4)\n",
        "\n",
        "#tensor arithmetic\n",
        "A = torch.arange(6, dtype=torch.float32).reshape(2,3)\n",
        "B = A.clone()\n",
        "A, A+B\n",
        "\n",
        "#elementwise product of two matrices is called their Hadamard product:\n",
        "#only works when matrices are the same size\n",
        "A*B\n",
        "\n",
        "a = 2\n",
        "X = torch.arange(24).reshape(2,3,4)\n",
        "a+X, (a*X).shape\n",
        "\n",
        "#Reduction\n",
        "#calculate sum of tensor's elements\n",
        "x = torch.arange(3, dtype=torch.float32)\n",
        "x, x.sum()\n",
        "A.shape, A.sum(axis=0).shape\n",
        "A.sum(axis=1).shape\n",
        "\n",
        "#this is equal to the sum because it results in a vector from\n",
        "A.sum(axis=[0,1]) == A.sum()\n",
        "\n",
        "#Calculate mean by dividing the sum by the total number of elements\n",
        "A.mean(), A.sum()/A.numel()\n",
        "\n",
        "#Also works for calculating the mean to reduce a tensor along a specific axis\n",
        "A.mean(axis=0), A.sum(axis=0) / A.shape[0]"
      ],
      "metadata": {
        "id": "eGyIY-cCLUCv",
        "colab": {
          "base_uri": "https://localhost:8080/"
        },
        "outputId": "fa7cb031-2ddf-47e0-a639-e5ff423df7de"
      },
      "execution_count": null,
      "outputs": [
        {
          "output_type": "execute_result",
          "data": {
            "text/plain": [
              "(tensor([1.5000, 2.5000, 3.5000]), tensor([1.5000, 2.5000, 3.5000]))"
            ]
          },
          "metadata": {},
          "execution_count": 6
        }
      ]
    },
    {
      "cell_type": "code",
      "source": [
        "#Non-reduction sum\n",
        "#Its usefult o keep the number of axes unchanged when invoking the function\n",
        "#for calcuating mean or sum, this matters when broadcasting\n",
        "sum_A = A.sum(axis=1,keepdims=True)\n",
        "sum_A, sum_A.shape\n",
        "\n",
        "#sum_A keeps its two axes after summing each row\n",
        "#dividing A by sum_A with boradcasting results in a matrix where each row\n",
        "#sums up to 1\n",
        "A / sum_A\n",
        "\n",
        "#cumulative sum of elements uses cumsum function. Does not reduce input tensor\n",
        "#along any axis\n",
        "#this calculates the cumulative sum of axis 0 (row by row)\n",
        "A.cumsum(axis=0)"
      ],
      "metadata": {
        "colab": {
          "base_uri": "https://localhost:8080/"
        },
        "id": "-N7DnRMa53vQ",
        "outputId": "1ba2d96b-336a-4e5a-dd18-e81757b6e266"
      },
      "execution_count": null,
      "outputs": [
        {
          "output_type": "execute_result",
          "data": {
            "text/plain": [
              "tensor([[0., 1., 2.],\n",
              "        [3., 5., 7.]])"
            ]
          },
          "metadata": {},
          "execution_count": 7
        }
      ]
    },
    {
      "cell_type": "code",
      "source": [
        "#Dot Products\n",
        "#X transpose Y is also known as inner product <x,y>\n",
        "y = torch.ones(3,dtype=torch.float32)\n",
        "x, y, torch.dot(x,y)\n",
        "#can also calcualte dot product of 2 vectors by performing elementwise\n",
        "#multiplication followed by a sum\n",
        "torch.sum(x * y)"
      ],
      "metadata": {
        "id": "cRZEFlcA_gHB",
        "colab": {
          "base_uri": "https://localhost:8080/"
        },
        "outputId": "92d8b5d0-1123-408a-fcce-1117f4415ddd"
      },
      "execution_count": null,
      "outputs": [
        {
          "output_type": "execute_result",
          "data": {
            "text/plain": [
              "(tensor([0., 1., 2.]), tensor([1., 1., 1.]), tensor(3.))"
            ]
          },
          "metadata": {},
          "execution_count": 9
        }
      ]
    }
  ]
}